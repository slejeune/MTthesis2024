{
 "cells": [
  {
   "cell_type": "code",
   "execution_count": null,
   "id": "fd45a8bd-e3af-4db2-9334-022584055755",
   "metadata": {},
   "outputs": [],
   "source": [
    "# WMT data english"
   ]
  },
  {
   "cell_type": "code",
   "execution_count": 15,
   "id": "173e8d6c-8952-4e21-b3a7-18ba2bb82119",
   "metadata": {},
   "outputs": [],
   "source": [
    "with open('/Users/Suzenator/Documents/Uni/M4/Doshisha M Thesis/CrossConST-LLM-main/dataset/experiment_alma/ru-en/wmt.17-20.en') as f:\n",
    "    lines = f.readlines()"
   ]
  },
  {
   "cell_type": "code",
   "execution_count": 16,
   "id": "eead346d-91ab-424c-8570-3a241596eeab",
   "metadata": {},
   "outputs": [
    {
     "name": "stdout",
     "output_type": "stream",
     "text": [
      "Sentences: 12991\n"
     ]
    }
   ],
   "source": [
    "print(\"Sentences:\",len(lines))"
   ]
  },
  {
   "cell_type": "code",
   "execution_count": 21,
   "id": "e9a7373f-c164-48ad-a7b3-62ed0a234bbb",
   "metadata": {},
   "outputs": [
    {
     "name": "stdout",
     "output_type": "stream",
     "text": [
      "Tokens: 264834\n"
     ]
    }
   ],
   "source": [
    "print(\"Tokens:\",sum([len(line.split(\" \")) for line in lines]))"
   ]
  },
  {
   "cell_type": "code",
   "execution_count": 22,
   "id": "99193dc0-f68c-4f9e-a8ab-532bc150c05f",
   "metadata": {},
   "outputs": [
    {
     "name": "stdout",
     "output_type": "stream",
     "text": [
      "Average sentence length: 20.385959510430297\n"
     ]
    }
   ],
   "source": [
    "print(\"Average sentence length:\", sum([len(line.split(\" \")) for line in lines])/len(lines))"
   ]
  },
  {
   "cell_type": "code",
   "execution_count": 46,
   "id": "2b1ff624-7564-4e17-8c56-ef41b2a94d2b",
   "metadata": {},
   "outputs": [
    {
     "name": "stdout",
     "output_type": "stream",
     "text": [
      "This is 12.64 times as big as the FLORES-200 data\n"
     ]
    }
   ],
   "source": [
    "print(\"This is {:0.4} times as big as the FLORES-200 data\".format(264834/20955))"
   ]
  },
  {
   "cell_type": "code",
   "execution_count": null,
   "id": "58263a02-4bfd-4e93-9282-a91ac700dcb8",
   "metadata": {},
   "outputs": [],
   "source": [
    "# FLORES-200 stats:\n",
    "# Sentences: 997\n",
    "# Tokens: approx. 20937\n",
    "# Average sentence length: 21\n",
    "\n",
    "# FLORES-200 english"
   ]
  },
  {
   "cell_type": "code",
   "execution_count": 23,
   "id": "a0c2071b-0ee8-4342-a42f-a0a11016831d",
   "metadata": {},
   "outputs": [],
   "source": [
    "with open('/Users/Suzenator/Documents/Uni/M4/Doshisha M Thesis/CrossConST-LLM-main/dataset/experiment_alma/ru-en/flores200.dev.en') as f:\n",
    "    lines = f.readlines()"
   ]
  },
  {
   "cell_type": "code",
   "execution_count": 24,
   "id": "9b8e43ae-f96c-41da-9dd9-faa91cd20cdb",
   "metadata": {},
   "outputs": [
    {
     "name": "stdout",
     "output_type": "stream",
     "text": [
      "Sentences: 997\n"
     ]
    }
   ],
   "source": [
    "print(\"Sentences:\",len(lines))"
   ]
  },
  {
   "cell_type": "code",
   "execution_count": 25,
   "id": "9c4c9228-815d-4458-96cf-7361920046db",
   "metadata": {},
   "outputs": [
    {
     "name": "stdout",
     "output_type": "stream",
     "text": [
      "Tokens: 20955\n"
     ]
    }
   ],
   "source": [
    "print(\"Tokens:\",sum([len(line.split(\" \")) for line in lines]))"
   ]
  },
  {
   "cell_type": "code",
   "execution_count": 26,
   "id": "09303520-6eaa-4a9e-8993-b4ef3b70ce15",
   "metadata": {},
   "outputs": [
    {
     "name": "stdout",
     "output_type": "stream",
     "text": [
      "Average sentence length: 21.018054162487463\n"
     ]
    }
   ],
   "source": [
    "print(\"Average sentence length:\", sum([len(line.split(\" \")) for line in lines])/len(lines))"
   ]
  },
  {
   "cell_type": "code",
   "execution_count": null,
   "id": "0e875fc5-bdfc-45c7-8273-c0d2015f4f55",
   "metadata": {},
   "outputs": [],
   "source": [
    "# Data FLORES-200 french"
   ]
  },
  {
   "cell_type": "code",
   "execution_count": 27,
   "id": "f22d3d51-2f8a-46fb-af76-d152bc8ff098",
   "metadata": {},
   "outputs": [],
   "source": [
    "with open('/Users/Suzenator/Documents/Uni/M4/Doshisha M Thesis/Data/flores_subset/dev/fra_Latn.dev') as f:\n",
    "    lines = f.readlines()"
   ]
  },
  {
   "cell_type": "code",
   "execution_count": 28,
   "id": "cccf6aff-578f-43b1-8fbc-5ca74cdb2ac4",
   "metadata": {},
   "outputs": [
    {
     "name": "stdout",
     "output_type": "stream",
     "text": [
      "Sentences: 997\n"
     ]
    }
   ],
   "source": [
    "print(\"Sentences:\",len(lines))"
   ]
  },
  {
   "cell_type": "code",
   "execution_count": 29,
   "id": "04b9f2ba-33f4-40ce-9296-38e05cfc527a",
   "metadata": {},
   "outputs": [
    {
     "name": "stdout",
     "output_type": "stream",
     "text": [
      "Tokens: 23889\n"
     ]
    }
   ],
   "source": [
    "print(\"Tokens:\",sum([len(line.split(\" \")) for line in lines]))"
   ]
  },
  {
   "cell_type": "code",
   "execution_count": 30,
   "id": "8b3e631a-0813-434e-a2c7-fc144dd2492e",
   "metadata": {},
   "outputs": [
    {
     "name": "stdout",
     "output_type": "stream",
     "text": [
      "Average sentence length: 23.96088264794383\n"
     ]
    }
   ],
   "source": [
    "print(\"Average sentence length:\", sum([len(line.split(\" \")) for line in lines])/len(lines))"
   ]
  },
  {
   "cell_type": "code",
   "execution_count": null,
   "id": "539f9448-cbfc-4017-9af1-b10aad98e289",
   "metadata": {},
   "outputs": [],
   "source": []
  }
 ],
 "metadata": {
  "kernelspec": {
   "display_name": "Python 3 (ipykernel)",
   "language": "python",
   "name": "python3"
  },
  "language_info": {
   "codemirror_mode": {
    "name": "ipython",
    "version": 3
   },
   "file_extension": ".py",
   "mimetype": "text/x-python",
   "name": "python",
   "nbconvert_exporter": "python",
   "pygments_lexer": "ipython3",
   "version": "3.10.10"
  }
 },
 "nbformat": 4,
 "nbformat_minor": 5
}
